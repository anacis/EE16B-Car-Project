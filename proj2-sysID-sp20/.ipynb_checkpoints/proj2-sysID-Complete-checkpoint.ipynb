{
 "cells": [
  {
   "cell_type": "markdown",
   "metadata": {},
   "source": [
    "# SIXT33N Project\n",
    "## Phase 2: System Identification\n",
    "\n",
    "### EE 16B: Designing Information Devices and Systems II, Spring 2020\n",
    "-----"
   ]
  },
  {
   "cell_type": "markdown",
   "metadata": {},
   "source": [
    "**Name 1**: Ana Cismaru\n",
    "\n",
    "**Login**: ee16b-\n",
    "\n",
    "\n",
    "**Name 2**: Gowri Datta\n",
    "\n",
    "**Login**: ee16b-\n",
    "\n",
    "**Name 3**: Milena Mathew\n",
    "\n",
    "**Login**: ee16b-\n",
    "\n"
   ]
  },
  {
   "cell_type": "markdown",
   "metadata": {},
   "source": [
    "## <span style=\"color:navy\">Table Of Contents</span>\n",
    "-----"
   ]
  },
  {
   "cell_type": "markdown",
   "metadata": {},
   "source": [
    "* ### [Note](https://drive.google.com/open?id=1W_7VX6vONH7U5hmAqc2eQ2CG-xcNBM2j)\n",
    "* [Introduction](#intro)\n",
    "* [Part 1: Installing the Encoders](#part1)\n",
    "* [Part 2: Sensor Verification](#part2)\n",
    "* [Part 3: Open Loop Data Collection and Parameter Estimation](#part3)\n",
    "* [Part 4: Determining the Operating Point](#part4)"
   ]
  },
  {
   "cell_type": "markdown",
   "metadata": {},
   "source": [
    "<a id='intro'></a>\n",
    "## <span style=\"color:navy\">Introduction</span>\n",
    "-----"
   ]
  },
  {
   "cell_type": "markdown",
   "metadata": {},
   "source": [
    "Please make sure to read the note before you begin the lab. \n",
    "**Remember to document all design choices you made and explain them in the project report.**"
   ]
  },
  {
   "cell_type": "markdown",
   "metadata": {},
   "source": [
    "<a id='part1'></a>\n",
    "## <span style=\"color:navy\">Part 1: Installing the Encoders</span>\n",
    "-----"
   ]
  },
  {
   "cell_type": "markdown",
   "metadata": {},
   "source": [
    "### Materials: \n",
    "- 2 encoders (aka photointerrupter modules, shown below)\n",
    "- 2 plastic encoder wheels (plastic wheel with lots of rectangular holes)\n",
    "- Launchpad\n",
    "- 8 jumper wires\n",
    "\n",
    "### Tasks: \n",
    "\n",
    "**1. Put the photointerrupter modules in their slots as shown below.**\n",
    "<br/><br/>\n",
    "<center>\n",
    "<img width=\"400px\" src=\"images/proj-car-encoder1.jpg\">\n",
    "</center>\n",
    "\n",
    "**2. Connect the encoders to the Launchpad as follows: **\n",
    "* Use 4 jumper wires per encoder. You should **twist or braid all three wires from the encoder to the breadboard together** - this will help shield the signal wire from external noise sources.\n",
    "* Connect the 'G' (ground) pins to ground on your breadboard.\n",
    "* Connect the 'V' (voltage) pins to the 3.3V rail of your breadboard.\n",
    "* Connect the left 'S' pin to Launchpad `P6.1` and the right 'S' pin to `P6.2`."
   ]
  },
  {
   "cell_type": "markdown",
   "metadata": {},
   "source": [
    "<a id='part2'></a>\n",
    "\n",
    "## <span style=\"color:navy\">Part 2: Sensor Verification</span>\n",
    "-----"
   ]
  },
  {
   "cell_type": "markdown",
   "metadata": {},
   "source": [
    "\n",
    "### <span style=\"color:navy\">Encoder Verification</span>\n",
    "\n",
    "\n",
    "### Materials:\n",
    "- Launchpad and cable\n",
    "- Car with encoders installed\n",
    "\n",
    "### Tasks: \n",
    "\n",
    "### Materials\n",
    "- Launchpad + USB cable\n",
    "\n",
    "In general, there are two major types of error in sensing the car's trajectory. The first is noise in the sensor signals. The second is from mechanical differences between the two sides of the car.\n",
    "\n",
    "In this section we will test for and fix the first type of noise. The mechanical type primarily affects performance over long distances, so we can compensate for it after implementing closed-loop control.\n",
    "\n",
    "### Tasks: \n",
    "1. **Remove the 5V jumper in the isolation jumper block, and make sure your Launchpad is NOT connected to the 3.3V rail in your circuit.** This is to prevent power surges through the board while it's connected to your computer via USB. The USB provides power, and since no two power supplies are ever exactly the same voltage, if the supplies are not isolated within the Launchpad, current can surge through the board and burn the Launchpad.  \n",
    "\n",
    "<img width=\"400px\" src=\"images/jumper.jpg\">\n",
    "\n",
    "\n",
    "2. Connect the LaunchPad's 5V pin to the 5V row of your breadboard and that one of the ground pins is connected to your breadboard ground.\n",
    "3. **Connect the left motor's BJT to `P2.0` and the right motor's BJT to `P1.5`.**\n",
    "4. Connect the USB.\n",
    "5. Snap the battery leads onto your 9V batteries, and knot your battery leads as shown in the image below.\n",
    "    - This will drastically decrease the chance that the leads will accidentally short and kill your battery.\n",
    "\n",
    "<img width=\"200px\" src=\"images/proj-batt-lead.jpg\">\n",
    "\n",
    "6. Connect one of your 9V batteries to the input of the voltage regulators, and one to the motor switch. Make sure the ground leads of both batteries are connected to the ground rail of your circuit.\n",
    "\n",
    "5. **If your encoders are powered properly, the LED's on them should blink when you pass something through the encoders.**\n",
    "- Remove the encoder wheels if they are on the car, and upload **`encoder_test_0_ticks.ino`** to the Launchpad.\n",
    "- Open the serial monitor.\n",
    "- **Set the baud rate to `38400`**.\n",
    "- **Press reset.**\n",
    "- Follow the instructions on the serial monitor.\n",
    "    - **Your car wheels are going to move.** Make sure that the car is suspended above the desk.\n",
    "    - Switch 1, P2.1 is the bottom left button of the LaunchPad.\n",
    "    - If your encoders are functioning properly, the serial monitor should print \"Success\" after each phase, and display all 0's (or at least no more than a few ticks) for the ticks per phase. Note that if your car is mis-wired, this could be a false negative.\n",
    "11. Attach the encoder disk as shown below.\n",
    "    - If your encoder wheels have brown paper stickers on them, remove the stickers before . \n",
    "    - If some of the holes in the encoder were not fully cut out, use the flat end of the screwdriver (it's reversible!) to push the material out.\n",
    "12. Re-run the tests. If your car is connected correctly, **the tests should show several hundred encoder ticks**, ruling out a false negative.\n",
    "\n",
    "<img width=\"400px\" src=\"images/proj-car-encoder2.jpg\">\n",
    "\n",
    "If you pass all the tests, you can now move on to microphone verification.\n"
   ]
  },
  {
   "cell_type": "markdown",
   "metadata": {},
   "source": [
    "<a id='part3'></a>\n",
    "## <span style=\"color:navy\">Part 3: Open Loop Data Collection and Parameter Estimation</span>\n",
    "-----"
   ]
  },
  {
   "cell_type": "markdown",
   "metadata": {},
   "source": [
    "Now, you will collect the data by uploading the sketch **`dynamics_data.ino`**. Glance through the sketch - it records the position of each wheel while varying the input signal $u[k]$ linearly from HIGH_PWM to LOW_PWM and back up. The sampling period is $T_s = 500\\mathrm{ms}$. A long sampling period is used to minimize error due to quantization, the rounding error from measuring only integer encoder ticks.\n",
    "\n",
    "\n",
    "### Interfacing with your Launchpad:\n",
    "\n",
    "1. **Make sure the 5V isolation jumper is off whenever you have the Launchpad connected to your computer via USB.** \n",
    "\n",
    "2. Connect your Launchpad to your computer. When you do this, you should see two new ports pop up in Tools > Ports. One of these allows you to write, but not read and the other one allows you to do both. If you are unable to read data during the read phase, try pressing `RST` on your Launchpad. If this doesn't work, switch to the other port, reupload, and reopen the serial monitor.  After pressing `RST`, the data should show up in the serial monitor. \n",
    "\n",
    "3. **When you are running the car disconnected from your computer, put the 5V isolation jumper back on.** This allows the whole board to recaive power from your 5V regulator. \n",
    "\n",
    "### Collecting your data: \n",
    "\n",
    "1. **Make sure the 5V isolation jumper is off.** Connect your Launchpad to your computer.\n",
    "\n",
    "2. Open `dynamics_data.ino` in Energia. Select the appropriate port in Tools > Ports. Make sure `WRITE == 1` in the Launchpad code, and upload `dynamics_data.ino` to your Launchpad.\n",
    "\n",
    "3. **Make sure that you are using the first set of 5 parameters in code block `SID1`** . These parameters will sweep through the whole range of PWM values, from maximum to minimum and back to maximum, while collecting only 1 sample per PWM. **Disconnect the Launchpad from the computer and reconnect the 5V isolation jumper.** Make sure your motors and Launchpad are powered. Find a large open space to collect your data. \n",
    "    - **Note:**  Upon being uploaded to the MSP, **`dynamics_data.ino`.** does either one of two things, depending on whether the **`WRITE`.** variable located at the top of the code is **`1`.** or **`0`.**. \n",
    "       - If **`WRITE == 1`.** - The car upon having the leftmost bottom button pressed will run and collect data, then write it into permanent memory, which will survive between resets and power supply removal. The collected data will be overwritten if data collection is run again.\n",
    "       - If **`WRITE == 0`.** - The car upon having its leftmost bottom button pressed will read data collected from its last run onto the Serial Monitor.\n",
    " \n",
    "3. Place the car down with the caster wheel facing you. The caster wheel should be at the back of the car: you want the car to drive away from you. \n",
    "\n",
    "4. Press `RST`, then press and hold the button labeled `P2.1` (it's on the bottom of the Launchpad toward the left-hand side, if you're holding the Launchpad with the USB port pointing up) until the LEDs on the bottom flash. Get out of the way — your car should start running now! **Don't let your car run into anything: if it looks like it's about to hit something, quickly pick it up, turn it, and put it back down.** Try to minimize any disturbance to the motors so your data remains valid.\n",
    "\n",
    "5. When the car stops, bring it back to your computer. **Disconnect the 5V isolation jumper** and connect the Launchpad into your computer. Check which port you're on now, as it may have changed from before, and update your selection in Tools>Ports. \n",
    "\n",
    "6. Set the `WRITE` variable in the Launchpad code to 0. \n",
    "\n",
    "7. Upload the code to your Launchpad, and open the Serial Monitor (Tools > Serial Monitor). After a few moments, your data shoud pop up in the serial monitor. If it doesn't, try pressing reset. If it still doesn't, change your port to the other port that shows up only after the Launchpad is connected, then reupload the code. Now the data should pop up. \n",
    "\n",
    "8. Copy the numerical data (ignore the headers) into a blank file. Save this file as `data_coarse.txt`. \n",
    "\n",
    "\n",
    "### Plotting your data: \n",
    " \n",
    "If you are using hardware for this lab, use your `data_coarse.txt`.  If you are not using hardware for this lab, use `\"data_coarse_gsi.txt\"`.  Replace `\"data_coarse_fake.txt\"` below with your filename. \n",
    "The example plot below shows an example of minimal differences between the two wheels. \n",
    "\n",
    "<img width=\"400px\" src=\"images/data.png\">"
   ]
  },
  {
   "cell_type": "code",
   "execution_count": 1,
   "metadata": {},
   "outputs": [],
   "source": [
    "import numpy as np\n",
    "import matplotlib.pyplot as plt\n",
    "%matplotlib inline"
   ]
  },
  {
   "cell_type": "code",
   "execution_count": 2,
   "metadata": {},
   "outputs": [
    {
     "data": {
      "image/png": "[encoded data removed]",
      "text/plain": [
       "<Figure size 432x288 with 1 Axes>"
      ]
     },
     "metadata": {
      "needs_background": "light"
     },
     "output_type": "display_data"
    }
   ],
   "source": [
    "with open('data_coarse_fake.txt', 'r') as file:\n",
    "    data = np.array([[int(num) for num in line.strip().split(',')] for line in file.readlines()])\n",
    "\n",
    "# compute velocity from distances\n",
    "vleft  = data[:, 1]\n",
    "vright = data[:, 2]\n",
    "\n",
    "\n",
    "u = data[:, 0].reshape((-1, 1)) # duty cycle\n",
    "left_des, left_asc = np.array_split(vleft, 2)\n",
    "\n",
    "right_des, right_asc = np.array_split(vright, 2)\n",
    "\n",
    "u_des, u_asc = np.array_split(u, 2)\n",
    "\n",
    "plt.plot(u_des, left_des, 'b-',  u_des, right_des, 'y-')\n",
    "plt.plot(u_asc, left_asc, 'b-o',  u_asc, right_asc, 'y-^')\n",
    "plt.xlabel(\"u (input via PWM)\")\n",
    "plt.ylabel(\"Velocity of Wheels\")\n",
    "labels = (\"left (descending)\", \"right (descending)\",\n",
    "          \"left (ascending)\" , \"right (ascending)\")\n",
    "plt.legend(labels, loc=0)\n",
    "plt.show()"
   ]
  },
  {
   "cell_type": "markdown",
   "metadata": {},
   "source": [
    "Now we'll collect data appropriate for least-squares to find a linear approximation for the behavior of your motors. In normal operation, the car only has to run within a small range of velocities, so we collect more samples at each PWM, over a smaller PWM range. \n",
    "\n",
    "### 5.2. Tasks:\n",
    "1. **Comment out the first set of 5 parameters and uncomment the second set in code block `SID1`.**\n",
    "2. **Set *LOW_PWM* and *HIGH_PWM*** so that the chosen PWM range is (more or less) linear on your coarse plot from the previous step.\n",
    "3. If your car makes *very* tight circles (ie: radius less than 1 ft), talk to your GSI!\n",
    "4. **Copy the numerical data between two \"Start\" lines to a text file called `data_fine.txt`**, like you did for `data_coarse`.\n",
    "5. If you are using hardware, use your `data_fine.txt`.  If you are not using hardware for this lab, use `\"data_fine_gsi.txt\"`.  Replace `\"data_fine_fake.txt\"` below with your filename. \n",
    "6. Perform least-squares regression on your data as outlined in the sections below entitled **Least-Squares Regression** and **Evaluate Your Fit**."
   ]
  },
  {
   "cell_type": "code",
   "execution_count": 3,
   "metadata": {},
   "outputs": [
    {
     "data": {
      "image/png": "[encoded data removed]",
      "text/plain": [
       "<Figure size 432x288 with 1 Axes>"
      ]
     },
     "metadata": {
      "needs_background": "light"
     },
     "output_type": "display_data"
    }
   ],
   "source": [
    "with open('data_fine_fake.txt', 'r') as file:\n",
    "    data = np.array([[int(num) for num in line.strip().split(',')] for line in file.readlines()])\n",
    "    \n",
    "# compute velocity from distances\n",
    "vleft  = data[:, 1]\n",
    "vright = data[:, 2]\n",
    "\n",
    "u = data[:, 0].reshape((-1, 1)) # duty cycle\n",
    "\n",
    "plt.plot(u, vleft, 'bo',  u, vright, 'yo')\n",
    "plt.xlabel(\"u (input via PWM)\")\n",
    "plt.ylabel(\"Velocity of Wheels\")\n",
    "plt.legend((\"left\", \"right\"), loc=0)\n",
    "plt.show()"
   ]
  },
  {
   "cell_type": "markdown",
   "metadata": {},
   "source": [
    "### 5.2.1. Least-Squares Regression\n",
    "Now that we have some data, we can try performing least-squares regression.\n",
    "\n",
    "\n",
    "1. Write a function that takes the data as parameters, performs least squares, and extracts the parameters. The function `np.linalg.lstsq` will be helpful here.\n",
    "2. Call the function once for each wheel.\n",
    "3. Record the values of $\\theta$ and $\\beta$ for each wheel."
   ]
  },
  {
   "cell_type": "code",
   "execution_count": 20,
   "metadata": {},
   "outputs": [
    {
     "name": "stdout",
     "output_type": "stream",
     "text": [
      "float theta_left = 4.095;\n",
      "float theta_right = 2.425;\n",
      "float beta_left = -2079;\n",
      "float beta_right = -1043;\n"
     ]
    }
   ],
   "source": [
    "# YOUR CODE HERE\n",
    "# Write a function that formulates and performs least squares\n",
    "# and returns theta and beta for one wheel\n",
    "def identify_parameters(u, v):\n",
    "    # Returns (theta, beta) for given (u, v)\n",
    "    arr = np.append(u, np.full(np.shape(u), -1), axis=1)\n",
    "    return np.linalg.lstsq(arr, v, rcond=None)[0][0], np.linalg.lstsq(arr, v, rcond=None)[0][1]\n",
    "\n",
    "# extract parameters, call your function here\n",
    "theta_left, beta_left = identify_parameters(u, vleft) # 0, 0\n",
    "theta_right, beta_right = identify_parameters(u, vright) # 0, 0\n",
    "\n",
    "print(\"float theta_left = {:.4g};\".format(theta_left))\n",
    "print(\"float theta_right = {:.4g};\".format(theta_right))\n",
    "print(\"float beta_left = {:.4g};\".format(beta_left))\n",
    "print(\"float beta_right = {:.4g};\".format(beta_right))"
   ]
  },
  {
   "cell_type": "code",
   "execution_count": 21,
   "metadata": {
    "scrolled": true
   },
   "outputs": [
    {
     "data": {
      "text/plain": [
       "<matplotlib.legend.Legend at 0x118e2abe0>"
      ]
     },
     "execution_count": 21,
     "metadata": {},
     "output_type": "execute_result"
    },
    {
     "data": {
      "image/png": "[encoded data removed]",
      "text/plain": [
       "<Figure size 432x288 with 1 Axes>"
      ]
     },
     "metadata": {
      "needs_background": "light"
     },
     "output_type": "display_data"
    }
   ],
   "source": [
    "# plot results of least squares fit \n",
    "u = u.reshape(-1)\n",
    "vleft_LS = theta_left*u-beta_left\n",
    "vright_LS = theta_right*u-beta_right\n",
    "plt.plot(u, vleft, 'bo',  u, vright, 'yo', u, vleft_LS, 'b-', u, vright_LS, 'y-')\n",
    "plt.xlabel(\"u (input via PWM)\")\n",
    "plt.ylabel(\"Velocity of Wheels\")\n",
    "plt.legend((\"left\", \"right\"), loc=0)"
   ]
  },
  {
   "cell_type": "markdown",
   "metadata": {},
   "source": [
    "### 5.2.2. Evaluate Your Fit\n",
    "\n",
    "1. **Inspect the linearity of this plot and the coarse data plot.**\n",
    "2. **If you think a different range of PWM may be more linear, change HIGH_PWM and LOW_PWM in the .ino file.**\n",
    "    - Be careful so your car does not run too close to the minimum or maximum PWM (0 and 255).\n",
    "    - If our control scheme saturates (e.g. maxes at 255) an input, the car is much harder to control.\n",
    "3. Run the simulation below."
   ]
  },
  {
   "cell_type": "markdown",
   "metadata": {},
   "source": [
    "To test that we have estimated the parameters accurately, we will simulate the model using the parameters we have found. When we compare the simulated data with the collected data, we expect them to match up pretty well. "
   ]
  },
  {
   "cell_type": "code",
   "execution_count": 23,
   "metadata": {},
   "outputs": [
    {
     "data": {
      "text/plain": [
       "<matplotlib.legend.Legend at 0x11941ae80>"
      ]
     },
     "execution_count": 23,
     "metadata": {},
     "output_type": "execute_result"
    },
    {
     "data": {
      "image/png": "[encoded data removed]",
      "text/plain": [
       "<Figure size 432x288 with 1 Axes>"
      ]
     },
     "metadata": {
      "needs_background": "light"
     },
     "output_type": "display_data"
    }
   ],
   "source": [
    "def get_distances_from_velocities(v):\n",
    "    d = np.zeros(len(u) + 1)\n",
    "    d[0] = 0\n",
    "    for t in range(len(u)):\n",
    "        d[t+1] = d[t] + v[t]\n",
    "    return d\n",
    "\n",
    "# model for simulation \n",
    "def sim(d0, u, theta, beta):\n",
    "    d = np.zeros(len(u)+1)\n",
    "    d[0] = d0\n",
    "    for t in range(len(u)):\n",
    "        d[t+1] = d[t] + theta*u[t] - beta\n",
    "    return d\n",
    "\n",
    "dleft = get_distances_from_velocities(vleft)\n",
    "dright = get_distances_from_velocities(vright)\n",
    "\n",
    "# plot simulated trajectories \n",
    "dleft_simulated  = sim(dleft[0], u, theta_left, beta_left)\n",
    "dright_simulated = sim(dright[0], u, theta_right, beta_right)\n",
    "plt.plot(dleft, 'b.', \n",
    "         dright, 'y.',\n",
    "         dleft_simulated, 'b-', \n",
    "         dright_simulated, 'y-',\n",
    "        )\n",
    "plt.xlabel(\"time\")\n",
    "plt.ylabel(\"distance\")\n",
    "plt.legend((\"left (data)\", \"right (data)\", \"left (fit)\", \"right (fit)\"), loc='upper left')"
   ]
  },
  {
   "cell_type": "markdown",
   "metadata": {},
   "source": [
    "<a id='part5'></a>\n",
    "## <span style=\"color:navy\">Part 5: Determining the Operating Point</span>\n",
    "-----"
   ]
  },
  {
   "cell_type": "markdown",
   "metadata": {},
   "source": [
    "**Make sure you read the linear least squares section of the note before beginning this section!**\n",
    "\n",
    "In general, each wheel may have a different range of velocities, illustrated here.\n",
    "\n",
    "\n",
    "<img src=\"./images/partial_overlap_lsq.png\">\n"
   ]
  },
  {
   "cell_type": "markdown",
   "metadata": {},
   "source": [
    "In order for the car to drive straight, the wheels must be moving at the same velocity. However, the motors (and hence the wheels) have different achievable velocity ranges, so we need to set the operating point to a velocity achievable by both wheels. A good choice of target velocity is the midpoint of the overlapping range of velocity. The below cell will calculate this."
   ]
  },
  {
   "cell_type": "code",
   "execution_count": 24,
   "metadata": {},
   "outputs": [
    {
     "name": "stdout",
     "output_type": "stream",
     "text": [
      "Velocity range = [2365.6, 1454.9]\n",
      "\n",
      "Operating point:\n",
      "float v_star = 1910.2;\n"
     ]
    },
    {
     "data": {
      "text/plain": [
       "<matplotlib.legend.Legend at 0x119543f28>"
      ]
     },
     "execution_count": 24,
     "metadata": {},
     "output_type": "execute_result"
    },
    {
     "data": {
      "image/png": "[encoded data removed]",
      "text/plain": [
       "<Figure size 432x288 with 1 Axes>"
      ]
     },
     "metadata": {
      "needs_background": "light"
     },
     "output_type": "display_data"
    }
   ],
   "source": [
    "min_vel = max(min(vleft_LS), min(vright_LS))\n",
    "max_vel = min(max(vleft_LS), max(vright_LS))\n",
    "print('Velocity range = [{:0.1f}, {:0.1f}]'.format(min_vel, max_vel))\n",
    "midpoint = (min_vel+max_vel)/2\n",
    "print('\\nOperating point:\\nfloat v_star = {:.1f};'.format(midpoint))\n",
    "\n",
    "u = u.reshape(-1)\n",
    "vleft_LS = theta_left*u-beta_left\n",
    "vright_LS = theta_right*u-beta_right\n",
    "plt.plot(u, vleft_LS, 'b-', u, vright_LS, 'y-')\n",
    "for i in (min_vel, max_vel):\n",
    "    plt.plot(u, 0*u + i, 'g-')\n",
    "plt.plot(u, vleft, 'bo',  u, vright, 'yo')\n",
    "plt.xlabel(\"u (input via PWM)\")\n",
    "plt.ylabel(\"Velocity of Wheels\")\n",
    "plt.legend((\"left\", \"right\", \"overlap\"), loc=0)"
   ]
  },
  {
   "cell_type": "markdown",
   "metadata": {},
   "source": [
    "## <span style=\"color:#ba190f\">CHECKOFF</span>\n",
    "-----\n",
    "- **Show your GSI your data collection and parameters.** Your GSI will double check your parameters.\n",
    " \n",
    "- **Show your GSI that you have submitted the lab assignment on Gradescope and have credit for all the labs you've completed.**\n",
    " \n",
    " ## <span style=\"color:red\">SAVE ALL YOUR DATA!!</span>"
   ]
  },
  {
   "cell_type": "code",
   "execution_count": null,
   "metadata": {
    "collapsed": true
   },
   "outputs": [],
   "source": []
  }
 ],
 "metadata": {
  "anaconda-cloud": {},
  "kernelspec": {
   "display_name": "Python 3",
   "language": "python",
   "name": "python3"
  },
  "language_info": {
   "codemirror_mode": {
    "name": "ipython",
    "version": 3
   },
   "file_extension": ".py",
   "mimetype": "text/x-python",
   "name": "python",
   "nbconvert_exporter": "python",
   "pygments_lexer": "ipython3",
   "version": "3.7.1"
  }
 },
 "nbformat": 4,
 "nbformat_minor": 1
}
